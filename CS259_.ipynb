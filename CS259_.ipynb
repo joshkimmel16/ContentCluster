{
 "cells": [
  {
   "cell_type": "markdown",
   "metadata": {},
   "source": [
    "## IMPORTS"
   ]
  },
  {
   "cell_type": "code",
   "execution_count": 1,
   "metadata": {},
   "outputs": [],
   "source": [
    "import pandas as pd\n",
    "import numpy as np\n",
    "import matplotlib.pyplot as plt\n",
    "%matplotlib inline\n",
    "plt.style.use('ggplot')"
   ]
  },
  {
   "cell_type": "markdown",
   "metadata": {},
   "source": [
    "## LOAD & PROCESS MOVIE DATA"
   ]
  },
  {
   "cell_type": "code",
   "execution_count": 2,
   "metadata": {},
   "outputs": [],
   "source": [
    "#Read netflix movie info data\n",
    "NF_titles = pd.read_csv('movie_titles.csv', encoding = \"ISO-8859-1\", \n",
    "                        header = None, names = ['Movie_Id', 'Year', 'Name'])"
   ]
  },
  {
   "cell_type": "code",
   "execution_count": 3,
   "metadata": {},
   "outputs": [
    {
     "name": "stderr",
     "output_type": "stream",
     "text": [
      "/anaconda3/lib/python3.6/site-packages/IPython/core/interactiveshell.py:2728: DtypeWarning: Columns (7) have mixed types. Specify dtype option on import or set low_memory=False.\n",
      "  interactivity=interactivity, compiler=compiler, result=result)\n"
     ]
    }
   ],
   "source": [
    "#Read movie_db data\n",
    "movies_db = pd.read_csv('AllMoviesDetailsCleaned.csv', sep= ';')"
   ]
  },
  {
   "cell_type": "code",
   "execution_count": 4,
   "metadata": {},
   "outputs": [],
   "source": [
    "#Use lower case version of movie titles as key to join datasets on\n",
    "NF_titles['title'] = NF_titles['Name'].apply(lambda x: x.lower())\n",
    "movies_db['title'] = movies_db['original_title'].apply(lambda x: str(x).lower())\n",
    "\n",
    "movie_info = pd.merge(NF_titles,movies_db,on='title',how='inner')"
   ]
  },
  {
   "cell_type": "code",
   "execution_count": 5,
   "metadata": {},
   "outputs": [],
   "source": [
    "#Must be sure of correct merge - use year to confirm\n",
    "#Fill missing release dates with '0000' then parse date to determine year\n",
    "movie_info['release_date'].fillna('0000', inplace=True)\n",
    "movie_info['release_year'] = movie_info['release_date'].apply(lambda x: int(x[:4]) if '-'in x else int(x[-4:]))\n",
    "\n",
    "to_drop = []\n",
    "#Iterate through movie_info\n",
    "for i in range(len(movie_info)):\n",
    "    \n",
    "    #If netflix year isn't equal to or 1 greater than release year, drop it\n",
    "    if (movie_info.loc[i,'Year'] != movie_info.loc[i,'release_year']) and (movie_info.loc[i,'Year'] - 1 != movie_info.loc[i,'release_year']):\n",
    "        to_drop.append(i)\n",
    "        \n",
    "movie_info.drop(to_drop,inplace=True)\n"
   ]
  },
  {
   "cell_type": "code",
   "execution_count": 6,
   "metadata": {},
   "outputs": [],
   "source": [
    "#Also want to get rid of duplicates\n",
    "#Sort by Movie_id\n",
    "movie_info.sort_values('Movie_Id',inplace=True)\n",
    "movie_info.reset_index(inplace=True)\n",
    "\n",
    "to_drop = []\n",
    "#Iterate through movie_info\n",
    "for i in range(1,len(movie_info)):\n",
    "\n",
    "    #If id is same as previous entry, drop it\n",
    "    if (movie_info.loc[i,'Movie_Id'] == movie_info.loc[i-1,'Movie_Id']):\n",
    "        to_drop.append(i)\n",
    "        \n",
    "movie_info.drop(to_drop,inplace=True)"
   ]
  },
  {
   "cell_type": "code",
   "execution_count": 9,
   "metadata": {},
   "outputs": [
    {
     "data": {
      "text/plain": [
       "0                                   Documentary|Animation\n",
       "1                                             Documentary\n",
       "2                         Comedy|Thriller|Mystery|Romance\n",
       "3                                             Documentary\n",
       "4                                  Horror|Science Fiction\n",
       "5                                   Action|Crime|Thriller\n",
       "6                                     Drama|Music|Romance\n",
       "7                        Comedy|Foreign|Romance|Adventure\n",
       "8                                                     NaN\n",
       "9                                                  Comedy\n",
       "10                                Thriller|Horror|Mystery\n",
       "11                  Action|Adventure|Crime|Drama|Thriller\n",
       "12                                 History|Drama|TV Movie\n",
       "13                                   Drama|Comedy|Romance\n",
       "14                     Drama|Action|Comedy|Romance|Family\n",
       "15                                                    NaN\n",
       "16                           Comedy|Drama|Fantasy|Romance\n",
       "18                                          Drama|Romance\n",
       "19                               War|Action|Drama|Romance\n",
       "20                                            Documentary\n",
       "21                        Action|Thriller|Mystery|Romance\n",
       "22                                                  Drama\n",
       "23                                              Drama|War\n",
       "24                                                Fantasy\n",
       "25                                      War|Romance|Drama\n",
       "26                                                    NaN\n",
       "27                                        Horror|Thriller\n",
       "28                                            Documentary\n",
       "29                                          Drama|Romance\n",
       "30      Action|Adventure|Drama|Mystery|Science Fiction...\n",
       "                              ...                        \n",
       "8955                                                Drama\n",
       "8956                                        Drama|Romance\n",
       "8957                             Family|Adventure|Fantasy\n",
       "8958                         Comedy|Drama|Fantasy|Romance\n",
       "8959                                                Drama\n",
       "8960                                    War|Drama|History\n",
       "8961                                               Comedy\n",
       "8962                                                Music\n",
       "8963                                          Documentary\n",
       "8964                               Horror|Science Fiction\n",
       "8965                                               Horror\n",
       "8966                                          Documentary\n",
       "8967                                                Music\n",
       "8968                                               Comedy\n",
       "8969                                         Drama|Horror\n",
       "8970                                          Crime|Drama\n",
       "8971                                    Documentary|Music\n",
       "8972                                         Comedy|Drama\n",
       "8973                         Comedy|Drama|Foreign|Romance\n",
       "8974                                                  NaN\n",
       "8975                              Action|Thriller|Mystery\n",
       "8976                               Horror|Science Fiction\n",
       "8977                                   Action|Crime|Drama\n",
       "8978                                Drama|Thriller|Horror\n",
       "8979                                          Crime|Drama\n",
       "8980             Thriller|Science Fiction|Mystery|Romance\n",
       "8981                                                Drama\n",
       "8982                                      Romance|History\n",
       "8983                                                Drama\n",
       "8984                                      Science Fiction\n",
       "Name: genres, Length: 8873, dtype: object"
      ]
     },
     "execution_count": 9,
     "metadata": {},
     "output_type": "execute_result"
    }
   ],
   "source": [
    "movie_info['genres']"
   ]
  },
  {
   "cell_type": "code",
   "execution_count": null,
   "metadata": {},
   "outputs": [],
   "source": []
  }
 ],
 "metadata": {
  "kernelspec": {
   "display_name": "Python 3",
   "language": "python",
   "name": "python3"
  },
  "language_info": {
   "codemirror_mode": {
    "name": "ipython",
    "version": 3
   },
   "file_extension": ".py",
   "mimetype": "text/x-python",
   "name": "python",
   "nbconvert_exporter": "python",
   "pygments_lexer": "ipython3",
   "version": "3.6.4"
  }
 },
 "nbformat": 4,
 "nbformat_minor": 2
}
